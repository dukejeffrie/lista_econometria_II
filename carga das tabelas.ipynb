{
 "cells": [
  {
   "cell_type": "markdown",
   "metadata": {},
   "source": [
    "## carga das tabelas"
   ]
  },
  {
   "cell_type": "code",
   "execution_count": 1,
   "metadata": {},
   "outputs": [],
   "source": [
    "import numpy as np\n",
    "import pandas as pd\n",
    "from glob import glob\n",
    "from functools import reduce"
   ]
  },
  {
   "cell_type": "markdown",
   "metadata": {},
   "source": [
    "As tabelas vêm empilhadas em arquivos texto. Cada arquivo tem um número de linhas diferente, por isso configuramos cada um:"
   ]
  },
  {
   "cell_type": "code",
   "execution_count": 2,
   "metadata": {},
   "outputs": [],
   "source": [
    "filenames = sorted(glob('./rust_data/*.asc'))\n",
    "linhas_por_tabela = [137,137,137,137,128,36,60,81]"
   ]
  },
  {
   "cell_type": "markdown",
   "metadata": {},
   "source": [
    "As 11 primeiras linhas de cada tabela descrevem metadados da tabela."
   ]
  },
  {
   "cell_type": "code",
   "execution_count": 3,
   "metadata": {},
   "outputs": [],
   "source": [
    "metadata_columns = [\n",
    "    'Bus ID',\n",
    "    'Purchased Month',\n",
    "    'Purchased Year',\n",
    "    '1st replacement Month',\n",
    "    '1st replacement Year',\n",
    "    '1st replacement Odometer',\n",
    "    '2nd replacement Month',\n",
    "    '2nd replacement Year',\n",
    "    '2nd replacement Odometer',\n",
    "    'begin Month',\n",
    "    'begin Year'\n",
    "]"
   ]
  },
  {
   "cell_type": "markdown",
   "metadata": {},
   "source": [
    "Para cada arquivo, lemos uma coluna só, mas depois quebramos em várias colunas redimensionando as séries de acordo com as `linhas_por_tabela` de cada um. Então criamos uma tabela com os ids de cada ônibus como nomes de colunas, e os dados dos odômetros que estão a partir da 12a linha."
   ]
  },
  {
   "cell_type": "code",
   "execution_count": 4,
   "metadata": {},
   "outputs": [],
   "source": [
    "original_data = (pd.read_csv(filename, header=None) for filename in filenames)\n",
    "series = [base.values.reshape(-1, linhas_por_tabela[i]).T for i, base in enumerate(original_data)]\n",
    "\n",
    "odometer = [pd.DataFrame(s[11:], columns=s[0].astype(str)) for s in series]\n",
    "o_df = reduce(lambda r, s: r.join(s), odometer).fillna(0)\n",
    "\n",
    "metadata = [pd.DataFrame(s[0:11].T, columns=metadata_columns) for s in series]\n",
    "m_df = reduce(lambda r, s: r.append(s), metadata).dropna()"
   ]
  },
  {
   "cell_type": "markdown",
   "metadata": {},
   "source": [
    "Para facilitar o acesso aos dados de datas, convertemos as colunas separadas em mês e ano em datas concretas, usando o dia 1 para preencher o dia. Assim será fácil calcular o tempo entre a compra e a troca."
   ]
  },
  {
   "cell_type": "code",
   "execution_count": 5,
   "metadata": {},
   "outputs": [],
   "source": [
    "for agg in ('Purchased', '1st replacement', '2nd replacement', 'begin'):\n",
    "  s_month = m_df['{} Month'.format(agg)]\n",
    "  s_year = 1900 + m_df['{} Year'.format(agg)]\n",
    "  m_df[agg] = pd.to_datetime({'day': 1, 'month': s_month, 'year': s_year}, errors='coerce')\n"
   ]
  },
  {
   "cell_type": "markdown",
   "metadata": {},
   "source": [
    "O último passo é juntar todos os frames em um só, preenchendo com zeros as colunas que não têm linhas suficientes. Então salvamos em parquet para ficar fácil de abrir num outro notebook."
   ]
  },
  {
   "cell_type": "code",
   "execution_count": 6,
   "metadata": {},
   "outputs": [],
   "source": [
    "m_df.to_parquet('./rust_data/metadata.parquet', compression='gzip')"
   ]
  },
  {
   "cell_type": "code",
   "execution_count": 7,
   "metadata": {},
   "outputs": [],
   "source": [
    "o_df.to_parquet('./rust_data/odometers.parquet', compression='gzip')"
   ]
  }
 ],
 "metadata": {
  "kernelspec": {
   "display_name": "Python 3",
   "language": "python",
   "name": "python3"
  },
  "language_info": {
   "codemirror_mode": {
    "name": "ipython",
    "version": 3
   },
   "file_extension": ".py",
   "mimetype": "text/x-python",
   "name": "python",
   "nbconvert_exporter": "python",
   "pygments_lexer": "ipython3",
   "version": "3.7.3"
  }
 },
 "nbformat": 4,
 "nbformat_minor": 2
}
