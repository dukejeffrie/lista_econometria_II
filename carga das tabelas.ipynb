{
 "cells": [
  {
   "cell_type": "markdown",
   "metadata": {},
   "source": [
    "## carga das tabelas"
   ]
  },
  {
   "cell_type": "code",
   "execution_count": 60,
   "metadata": {},
   "outputs": [],
   "source": [
    "import pandas as pd\n",
    "from glob import glob\n",
    "from functools import reduce"
   ]
  },
  {
   "cell_type": "markdown",
   "metadata": {},
   "source": [
    "As tabelas vêm empilhadas em arquivos texto. Cada arquivo tem um número de linhas diferente, por isso configuramos cada um:"
   ]
  },
  {
   "cell_type": "code",
   "execution_count": 40,
   "metadata": {},
   "outputs": [],
   "source": [
    "filenames = sorted(glob('./rust_data/*.asc'))\n",
    "linhas_por_tabela = [137,137,137,137,128,36,60,81]"
   ]
  },
  {
   "cell_type": "markdown",
   "metadata": {},
   "source": [
    "Para cada arquivo, lemos uma coluna só, mas depois quebramos em várias colunas redimensionando as séries de acordo com as `linhas_por_tabela` de cada um. Então criamos uma tabela com os ids de cada ônibus como nomes de colunas, e os dados dos odômetros que estão a partir da 12a linha. As substituições de motor são salvas usando a 6a e a 9a linhas, como especificado."
   ]
  },
  {
   "cell_type": "code",
   "execution_count": 111,
   "metadata": {},
   "outputs": [],
   "source": [
    "df_crus = (pd.read_csv(filename, header=None) for filename in filenames)\n",
    "series = [base.values.reshape(-1, linhas_por_tabela[i]).T for i, base in enumerate(df_crus)]\n",
    "odometer = [pd.DataFrame(s[11:], columns=s[0].astype(str)) for s in series]\n",
    "replacements = [pd.DataFrame([s[5],s[8]], columns=s[0].astype(str)) for s in series]"
   ]
  },
  {
   "cell_type": "markdown",
   "metadata": {},
   "source": [
    "O último passo é juntar todos os frames em um só, preenchendo com zeros as colunas que não têm linhas suficientes. Então salvamos em parquet para ficar fácil de abrir num outro notebook."
   ]
  },
  {
   "cell_type": "code",
   "execution_count": 112,
   "metadata": {},
   "outputs": [],
   "source": [
    "def joiner(r, s):\n",
    "    return r.join(s)\n",
    "\n",
    "o_df = reduce(joiner, odometer).fillna(0)\n",
    "r_df = reduce(joiner, replacements).fillna(0)"
   ]
  },
  {
   "cell_type": "code",
   "execution_count": 115,
   "metadata": {},
   "outputs": [],
   "source": [
    "r_df.to_parquet('./rust_data/replacements.parquet', compression='gzip')"
   ]
  },
  {
   "cell_type": "code",
   "execution_count": 116,
   "metadata": {},
   "outputs": [],
   "source": [
    "o_df.to_parquet('./rust_data/odometers.parquet', compression='gzip')"
   ]
  }
 ],
 "metadata": {
  "kernelspec": {
   "display_name": "Python 3",
   "language": "python",
   "name": "python3"
  },
  "language_info": {
   "codemirror_mode": {
    "name": "ipython",
    "version": 3
   },
   "file_extension": ".py",
   "mimetype": "text/x-python",
   "name": "python",
   "nbconvert_exporter": "python",
   "pygments_lexer": "ipython3",
   "version": "3.7.3"
  }
 },
 "nbformat": 4,
 "nbformat_minor": 2
}
